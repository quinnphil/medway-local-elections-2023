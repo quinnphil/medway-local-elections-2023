{
 "cells": [
  {
   "cell_type": "markdown",
   "id": "404b5315-0896-426f-ab03-57ae7def2aaf",
   "metadata": {},
   "source": [
    "Medway - Local Election Results - 2023\n",
    "======================================"
   ]
  },
  {
   "cell_type": "code",
   "execution_count": null,
   "id": "ac292455-187f-486e-b290-bee869133bb7",
   "metadata": {
    "tags": []
   },
   "outputs": [],
   "source": [
    "%matplotlib inline\n",
    "\n",
    "from IPython.display import display, HTML\n",
    "from matplotlib import pyplot as plt\n",
    "import contextily as cx\n",
    "import geopandas as gpd\n",
    "import pandas as pd\n",
    "import re\n",
    "import requests\n",
    "import seaborn as sns"
   ]
  },
  {
   "cell_type": "markdown",
   "id": "09b140df-133a-474f-8232-f679d14f5cee",
   "metadata": {},
   "source": [
    "### TODO\n",
    "\n",
    "[ ] Rejection reasons - add to df_ward  "
   ]
  },
  {
   "cell_type": "markdown",
   "id": "cecbee85-1e6c-49b5-ac4d-d36ff84a7258",
   "metadata": {},
   "source": [
    "### 0. Config"
   ]
  },
  {
   "cell_type": "code",
   "execution_count": null,
   "id": "c0c6a07e-1e6c-4214-9e92-b02308d52f9b",
   "metadata": {},
   "outputs": [],
   "source": [
    "# Paths\n",
    "path_data = 'data'\n"
   ]
  },
  {
   "cell_type": "code",
   "execution_count": null,
   "id": "1bfabc4b-7042-4157-bee8-46ac14e05542",
   "metadata": {},
   "outputs": [],
   "source": [
    "# Ward seats\n",
    "ward_seats = {\n",
    "    \"All Saints\": 1,\n",
    "    \"Chatham Central and Brompton\": 3,\n",
    "    \"Cuxton, Halling and Riverside\": 2,\n",
    "    \"Fort Horsted\": 1,\n",
    "    \"Fort Pitt\": 3,\n",
    "    \"Gillingham North\": 3,\n",
    "    \"Gillingham South\": 3,\n",
    "    \"Hempstead and Wigmore\": 2,\n",
    "    \"Hoo St Werburgh and High Halstow\": 3,\n",
    "    \"Lordswood and Walderslade\": 3,\n",
    "    \"Luton\": 2,\n",
    "    \"Princes Park\": 2,\n",
    "    \"Rainham North\": 3,\n",
    "    \"Rainham South East\": 3,\n",
    "    \"Rainham South West\": 2,\n",
    "    \"Rochester East and Warren Wood\": 3,\n",
    "    \"Rochester West and Borstal\": 3,\n",
    "    \"St Mary's Island\": 1,\n",
    "    \"Strood North and Frindsbury\": 3,\n",
    "    \"Strood Rural\": 3,\n",
    "    \"Strood West\": 3,\n",
    "    \"Twydall\": 2,\n",
    "    \"Watling\": 3,\n",
    "    \"Wayfield and Weeds Wood\": 2\n",
    " }\n",
    "assert sum([x for x in ward_seats.values()]) == 59"
   ]
  },
  {
   "cell_type": "code",
   "execution_count": null,
   "id": "96e40722-1448-40ca-bbd3-1cd5469b903a",
   "metadata": {},
   "outputs": [],
   "source": [
    "# Party map\n",
    "map_party = {\n",
    "       \"Conservative Party candidate\": \"Conservative\",\n",
    "       \"Labour and Co-operative Party\": \"Labour\",\n",
    "       \"Labour Party\": \"Labour\",\n",
    "       \"Local Conservatives\": \"Conservative\",\n",
    "}"
   ]
  },
  {
   "cell_type": "code",
   "execution_count": null,
   "id": "cdceffc4-9408-4b63-8ffe-ae9bcf6f1533",
   "metadata": {},
   "outputs": [],
   "source": [
    "# Colours map\n",
    "x = sns.color_palette(\"Paired\")\n",
    "print(x.as_hex())\n",
    "display(x)\n",
    "\n",
    "map_colors = {\n",
    "       \"Christian Peoples Alliance\": \"#ffff99\",\n",
    "       \"Conservative Party candidate\": \"#1f78b4\",\n",
    "       \"Conservative\": \"#1f78b4\",\n",
    "       \"Green Party\": \"#33a021\",\n",
    "       \"Heritage Party\": \"#fdbf6f\",\n",
    "       \"Independent\": \"#ff7f00\",\n",
    "       \"Labour and Co-operative Party\": \"#fb9a99\",\n",
    "       \"Labour Party\": \"#e31a1c\",\n",
    "        \"Labour\": \"#e31a1c\",\n",
    "       \"Liberal Democrats\": \"#cab2d6\",\n",
    "       \"Local Conservatives\": \"#a6cee3\",\n",
    "       \"Reform UK\": \"#b15928\",\n",
    "       \"Social Democratic Party\": \"#6a3d9a\"\n",
    "}\n",
    "\n"
   ]
  },
  {
   "cell_type": "markdown",
   "id": "69066dd3-2d54-47da-b802-86024a807dcb",
   "metadata": {},
   "source": [
    "### 1. Load Data"
   ]
  },
  {
   "cell_type": "code",
   "execution_count": null,
   "id": "3e5e34a9-3326-4ff1-a70d-ce71b5112fff",
   "metadata": {},
   "outputs": [],
   "source": [
    "### 1. Load data\n",
    "df_wards = pd.read_csv('data/wards.csv')\n",
    "df_results = pd.read_csv('data/results.csv')"
   ]
  },
  {
   "cell_type": "markdown",
   "id": "ed411d5a-ec04-4170-8d07-0849702b3189",
   "metadata": {},
   "source": [
    "### 2. Analysis"
   ]
  },
  {
   "cell_type": "code",
   "execution_count": null,
   "id": "69f5156f-dd94-41bb-bae6-2c7f71c5c331",
   "metadata": {},
   "outputs": [],
   "source": [
    "def plot_ward(df):\n",
    "    (\n",
    "        df\n",
    "        .plot(kind='scatter', \n",
    "              y='surname', \n",
    "              x='Number of votes', \n",
    "              figsize=(8,6), \n",
    "              s=200,\n",
    "              c=df['party'].map(map_colors))\n",
    "    )\n",
    "    plt.gca().invert_yaxis()\n",
    "    plt.show()\n",
    "\n",
    "    return df\n",
    "\n",
    "for ward in df_results['ward'].unique():\n",
    "    display(HTML(f'<h3>{ward}</h3>'))\n",
    "    \n",
    "    display(HTML(f'<h4>Overview</h4>'))\n",
    "    print(f'Seats: {df_wards.loc[df_wards[\"ward\"] == ward][\"ward_seats\"].item()}')\n",
    "    \n",
    "    display(HTML(f'<h4>Candidate results - {ward} - table</h4>'))\n",
    "    df = df_results[df_results['ward'] == ward].sort_values(by='Number of votes', ascending=False)\n",
    "    display(df)\n",
    "    display(HTML(f'<h4>Candidate results - {ward}</h4>'))\n",
    "    plot_ward(df)\n",
    "    \n",
    "    display(HTML(f'<hr/>'))\n",
    "    \n",
    "    "
   ]
  },
  {
   "cell_type": "code",
   "execution_count": null,
   "id": "3208d1ee-4be0-47df-a650-fe07c5f79a23",
   "metadata": {},
   "outputs": [],
   "source": [
    "df_results[df_results['Surname'] == 'Field']"
   ]
  },
  {
   "cell_type": "code",
   "execution_count": null,
   "id": "da030153-7efe-4c33-a2ad-96b3f20d8ba1",
   "metadata": {},
   "outputs": [],
   "source": [
    "df_results.sort_values(by='Number of votes', ascending=False).head(15)"
   ]
  },
  {
   "cell_type": "markdown",
   "id": "0d08793f-3e81-4d5b-97b1-d67df590a5ea",
   "metadata": {},
   "source": [
    "### Which party got the most votes overall?"
   ]
  },
  {
   "cell_type": "code",
   "execution_count": null,
   "id": "2917afe9-ebb7-423a-8a95-6a413c9cc835",
   "metadata": {},
   "outputs": [],
   "source": [
    "\n",
    "\n",
    "display(df_results.groupby(['party']).sum().sort_values(by='Number of votes', ascending=False))\n",
    "\n",
    "_df = (\n",
    "    df_results.groupby(['party']).sum().sort_values(by='Number of votes', ascending=True)\n",
    "    .reset_index()\n",
    ")\n",
    "\n",
    "_df.plot(kind='scatter', x='Number of votes', y='party', \n",
    "         s=200,\n",
    "         c=_df['party'].map(map_colors),\n",
    "        figsize=(10,6),\n",
    "        title='Medway Local Elections 2023 - total party votes (absolute votes)')\n",
    "\n",
    "plt.show()"
   ]
  },
  {
   "cell_type": "markdown",
   "id": "e4856c9a-7dae-48a4-bdf8-ae1d22d331d6",
   "metadata": {},
   "source": [
    "#### 3.2 Analysis - Wards"
   ]
  },
  {
   "cell_type": "code",
   "execution_count": null,
   "id": "b493a71a-912f-4f5e-9410-2a1ddcb08df5",
   "metadata": {},
   "outputs": [],
   "source": [
    "df_results_by_ward = (\n",
    "    df_results.groupby(['ward', 'party']).sum()\n",
    "    .reset_index()\n",
    "    .sort_values(by='ward', ascending=False)\n",
    ")\n",
    "\n",
    "\n",
    "df_results_by_ward.plot(kind='scatter', x='Number of votes', y='ward', figsize=(10,8), \n",
    "                        s=100,c=df_results_by_ward['party'].map(map_colors))\n",
    "plt.show()"
   ]
  },
  {
   "cell_type": "code",
   "execution_count": null,
   "id": "411648f5-b35f-4d5b-9d5d-24dfa196e1e3",
   "metadata": {},
   "outputs": [],
   "source": [
    "df_results_by_ward = (\n",
    "    df_results.groupby(['ward', 'party'])['Number of votes'].sum()\n",
    "    .reset_index()\n",
    "    .assign(**{'number_of_votes_norm': lambda _df: _df['Number of votes'] / _df.groupby(['ward'])['Number of votes'].transform('sum')})\n",
    "    .sort_values(by='ward', ascending=False)\n",
    ")\n",
    "\n",
    "df_results_by_ward.plot(kind='scatter', x='number_of_votes_norm', y='ward', figsize=(10,8), s=100, c=df_results_by_ward['party'].map(map_colors))\n",
    "plt.show()"
   ]
  },
  {
   "cell_type": "code",
   "execution_count": null,
   "id": "912f0445-fe56-4af9-a41d-36fa69a3c9b3",
   "metadata": {},
   "outputs": [],
   "source": [
    "### Top parties in wards\n",
    "df_results_by_ward.sort_values('number_of_votes_norm', ascending=False).groupby('ward').head(1).sort_values(by=['number_of_votes_norm'], ascending=[True])"
   ]
  },
  {
   "cell_type": "markdown",
   "id": "5a127f85-68f0-4f5d-bb9a-9af8df9f50f5",
   "metadata": {},
   "source": [
    "### How big is the electorate?"
   ]
  },
  {
   "cell_type": "code",
   "execution_count": null,
   "id": "accc971d-d5c0-484f-83c2-eba19a09ef12",
   "metadata": {},
   "outputs": [],
   "source": [
    "print(f\"Electorate: {df_wards['electorate'].sum():,}\")"
   ]
  },
  {
   "cell_type": "code",
   "execution_count": null,
   "id": "40cd20bb-626a-4f8b-8e45-fed43bfc9181",
   "metadata": {},
   "outputs": [],
   "source": []
  },
  {
   "cell_type": "markdown",
   "id": "ba3cc7f1-f226-4d3f-a08d-f9bc1315d009",
   "metadata": {},
   "source": [
    "### Which wards had the best turnout?"
   ]
  },
  {
   "cell_type": "code",
   "execution_count": null,
   "id": "ee8b64e0-1e40-4f19-8304-7253b87f27ee",
   "metadata": {},
   "outputs": [],
   "source": [
    "(\n",
    "    df_wards.sort_values('turnout', ascending=False)\n",
    "    [['ward', 'ballot_papers_verified', 'electorate', 'turnout']]\n",
    "    .round({'turnout': 2})\n",
    ")"
   ]
  },
  {
   "cell_type": "markdown",
   "id": "a59988b0-4718-4b6d-af0c-ecdc4519787d",
   "metadata": {},
   "source": [
    "### Which wards mostly use postal votes?"
   ]
  },
  {
   "cell_type": "code",
   "execution_count": null,
   "id": "592393c6-6ffb-4e0f-9e0a-fc98b77cafb5",
   "metadata": {},
   "outputs": [],
   "source": [
    "(\n",
    "    df_wards\n",
    "    .sort_values(by='postal_ballot_perc', ascending=False)\n",
    "    [['ward', 'verified_postal_ballot_papers', 'ballot_papers_verified', 'postal_ballot_perc']]\n",
    ")"
   ]
  },
  {
   "cell_type": "markdown",
   "id": "e19341dd-7427-4ebf-87d0-d90276f48ffc",
   "metadata": {},
   "source": [
    "### How many ward seats are there to registered electors?"
   ]
  },
  {
   "cell_type": "code",
   "execution_count": null,
   "id": "8ab58433-72da-47f1-b676-ba65c6154964",
   "metadata": {},
   "outputs": [],
   "source": [
    "(\n",
    "    df_wards\n",
    "    .assign(**{'ward_seats_per_electorate': lambda _df: _df['electorate'] / _df['ward_seats']})\n",
    "    .sort_values(by='ward_seats_per_electorate', ascending=False)\n",
    "    [['ward', 'electorate', 'ward_seats', 'ward_seats_per_electorate']]\n",
    "    .round({'ward_seats_per_electorate': 1})\n",
    ")"
   ]
  },
  {
   "cell_type": "markdown",
   "id": "fda3e310-b463-43e6-aa5a-cb375d7cd7b8",
   "metadata": {},
   "source": [
    "### Map ward top party by vote\n",
    "\n",
    "Which party received the most votes in each ward?"
   ]
  },
  {
   "cell_type": "code",
   "execution_count": null,
   "id": "ab795a7e-adf2-4376-94ca-4515f75ee2ad",
   "metadata": {},
   "outputs": [],
   "source": [
    "map_ward_names = {\n",
    "    'Lordswood & Walderslade': 'Lordswood and Walderslade',\n",
    "    'Hempstead & Wigmore': 'Hempstead and Wigmore',\n",
    "    'Wayfield & Weeds Wood': 'Wayfield and Weeds Wood',\n",
    "    'Cuxton, Halling & Riverside': 'Cuxton, Halling and Riverside',\n",
    "    'Rochester East & Warren Wood': 'Rochester East and Warren Wood',\n",
    "    'Rochester West & Borstal': 'Rochester West and Borstal',\n",
    "    'Chatham Central & Brompton': 'Chatham Central and Brompton',\n",
    "    'Hoo St Werburgh & High Halstow': 'Hoo St Werburgh and High Halstow',\n",
    "    'Strood North & Frindsbury': 'Strood North and Frindsbury'\n",
    "}\n",
    "\n",
    "gpd_medway = (\n",
    "    gpd.read_file('data/maps/Medway.geojson')\n",
    "    .drop(columns={'OBJECTID', 'Ward_name'})\n",
    "    .rename(columns={\n",
    "        'Name': 'ward_name',\n",
    "        'No_of_coun': 'councillors',\n",
    "        'Current_el': 'electorate_current',\n",
    "        'Forecast_e': 'electorate_forecast'\n",
    "    })\n",
    "    .assign(**{\n",
    "        'ward_name': lambda x: x['ward_name'].replace(to_replace=map_ward_names),\n",
    "    })\n",
    ")\n",
    "\n",
    "\n",
    "df_ward_top_party = (\n",
    "    df_results_by_ward\n",
    "    .sort_values('number_of_votes_norm', ascending=False)\n",
    "    .groupby('ward').head(1).\n",
    "    sort_values(by=['number_of_votes_norm'], ascending=[True])\n",
    "    .assign(**{'ward_color': lambda x: x['party'].replace(map_colors)})\n",
    ")\n",
    "\n",
    "\n",
    "gdp_medway_top_party = (\n",
    "    gpd_medway\n",
    "    .merge(\n",
    "        df_ward_top_party,\n",
    "        left_on='ward_name',\n",
    "        right_on='ward', how='left')\n",
    ").to_crs(epsg=3857)\n",
    "\n",
    "ax = gdp_medway_top_party.plot(figsize=(18,20), color=gdp_medway_top_party['ward_color'], edgecolor=\"black\", alpha=0.5)\n",
    "cx.add_basemap(ax,crs=gdp_medway_top_party.crs, source=cx.providers.Stamen.TonerLite)\n",
    "# cx.add_basemap(ax,crs=gdp_medway_top_party.crs, source=cx.providers.Stamen.TonerLabels, zoom=12)\n",
    "\n",
    "# gdp_medway_top_party\n",
    "plt.axis('off')\n",
    "plt.show()\n",
    "\n",
    "display(df_ward_top_party)"
   ]
  },
  {
   "cell_type": "markdown",
   "id": "3a52b6a2-2354-4c3e-8fb6-4847ca50e6d5",
   "metadata": {},
   "source": [
    "### Voter turnout choropleth\n"
   ]
  },
  {
   "cell_type": "code",
   "execution_count": null,
   "id": "ed67dfb8-0a45-4ea1-ad88-6c6aff69985d",
   "metadata": {},
   "outputs": [],
   "source": [
    "gdp_medway_wards = (\n",
    "    gpd_medway\n",
    "    .merge(\n",
    "        df_wards,\n",
    "        left_on='ward_name',\n",
    "        right_on='ward', how='left')\n",
    ").to_crs(epsg=3857)\n",
    "\n",
    "ax = gdp_medway_wards.plot(figsize=(18,20), column='turnout', edgecolor=\"black\", alpha=0.5, cmap='YlGn')\n",
    "cx.add_basemap(ax,crs=gdp_medway_wards.crs, source=cx.providers.Stamen.TonerLite)\n",
    "\n",
    "plt.axis('off')\n",
    "plt.show()\n",
    "\n",
    "display(gdp_medway_wards[['ward', 'turnout']])"
   ]
  },
  {
   "cell_type": "code",
   "execution_count": null,
   "id": "1262df2b-ed0e-4a12-a18d-770792d7c960",
   "metadata": {},
   "outputs": [],
   "source": [
    "gdp_medway_wards = (\n",
    "    gpd_medway\n",
    "    .merge(\n",
    "        df_wards,\n",
    "        left_on='ward_name',\n",
    "        right_on='ward', how='left')\n",
    ").to_crs(epsg=3857)\n",
    "\n",
    "ax = gdp_medway_wards.plot(figsize=(18,20), column='postal_ballot_perc', edgecolor=\"black\", alpha=0.5, cmap='Blues')\n",
    "cx.add_basemap(ax,crs=gdp_medway_wards.crs, source=cx.providers.Stamen.TonerLite)\n",
    "\n",
    "plt.axis('off')\n",
    "plt.show()\n",
    "\n",
    "display(gdp_medway_wards[['ward', 'postal_ballot_perc']].sort_values(by='postal_ballot_perc', ascending=False))"
   ]
  }
 ],
 "metadata": {
  "kernelspec": {
   "display_name": "Python 3 (ipykernel)",
   "language": "python",
   "name": "python3"
  },
  "language_info": {
   "codemirror_mode": {
    "name": "ipython",
    "version": 3
   },
   "file_extension": ".py",
   "mimetype": "text/x-python",
   "name": "python",
   "nbconvert_exporter": "python",
   "pygments_lexer": "ipython3",
   "version": "3.10.5"
  }
 },
 "nbformat": 4,
 "nbformat_minor": 5
}
